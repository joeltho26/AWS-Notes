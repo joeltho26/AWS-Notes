{
 "cells": [
  {
   "cell_type": "markdown",
   "metadata": {},
   "source": [
    "1. [API Gateway - Endpoint Types](#API-Gateway---Endpoint-Types)\n"
   ]
  },
  {
   "cell_type": "markdown",
   "metadata": {},
   "source": [
    "#### API Gateway - Endpoint Types:\n",
    "\n",
    "Edge Optimized (default): \n",
    "- for global clients (accessed by anyone around the world)\n",
    "- Request are routed via CloudFront Edge locations (improves latency)\n",
    "- API Gateway still lives only in 1 region\n",
    "\n",
    "Regional: \n",
    "- regional clients (accessed by clients within the same region)\n",
    "- Could combine with CloudFront (more control over caching strategies and distribution)\n",
    "\n",
    "Private: \n",
    "- Accessed within the VPC using an interface VPC endpoint (ENI)\n",
    "- Resource Policy to define access\n"
   ]
  },
  {
   "cell_type": "markdown",
   "metadata": {},
   "source": []
  },
  {
   "cell_type": "markdown",
   "metadata": {},
   "source": []
  }
 ],
 "metadata": {
  "language_info": {
   "name": "python"
  }
 },
 "nbformat": 4,
 "nbformat_minor": 2
}
