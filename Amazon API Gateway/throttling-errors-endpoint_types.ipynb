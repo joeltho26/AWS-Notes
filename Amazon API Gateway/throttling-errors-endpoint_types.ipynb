{
 "cells": [
  {
   "cell_type": "markdown",
   "metadata": {},
   "source": [
    "1. [Account Throttling Limit](#Account-Throttling-Limit)\n",
    "2. [API Gateway Errors](#API-Gateway-Errors)\n",
    "3. [API Gateway - Endpoint Types](#API-Gateway---Endpoint-Types)"
   ]
  },
  {
   "cell_type": "markdown",
   "metadata": {},
   "source": [
    "#### Account Throttling Limit:\n",
    "- 10,000 requests per second for all APIs, beyond will result in throttling\n",
    "    - soft limit and can be increased based no request\n",
    "- If throttled => 429 Too many requests (re-triable)\n",
    "- can set stage limit and method limit to improve performance or define usage plan to throttle per customer\n",
    "- API Gateway throttling similar to Lambda concurrency issue"
   ]
  },
  {
   "cell_type": "markdown",
   "metadata": {},
   "source": [
    "#### API Gateway Errors:\n",
    "- 4XX: (client side)\n",
    "    - 400 (Bad request)\n",
    "    - 403 (Access Denied, WAF firewall filter)\n",
    "    - 429 (Too may request - throttling)\n",
    "\n",
    "- 5XX: (server side)\n",
    "    - 502 (Bad Gateway Exception - from Lambda proxy Integration)\n",
    "    - 503 (Service Unavailable)\n",
    "    - 504 (Integration failure)\n",
    "        - Eg: timeout exception"
   ]
  },
  {
   "cell_type": "markdown",
   "metadata": {},
   "source": [
    "#### API Gateway - Endpoint Types:\n",
    "\n",
    "Edge Optimized (default): \n",
    "- for global clients (accessed by anyone around the world)\n",
    "- Request are routed via CloudFront Edge locations (improves latency)\n",
    "- API Gateway still lives only in 1 region\n",
    "\n",
    "Regional: \n",
    "- regional clients (accessed by clients within the same region)\n",
    "- Could combine with CloudFront (more control over caching strategies and distribution)\n",
    "\n",
    "Private: \n",
    "- Accessed within the VPC using an interface VPC endpoint (ENI)\n",
    "- Resource Policy to define access\n"
   ]
  }
 ],
 "metadata": {
  "language_info": {
   "name": "python"
  }
 },
 "nbformat": 4,
 "nbformat_minor": 2
}
