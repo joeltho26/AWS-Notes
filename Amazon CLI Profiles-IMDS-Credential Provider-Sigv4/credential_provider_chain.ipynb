{
 "cells": [
  {
   "cell_type": "markdown",
   "metadata": {},
   "source": [
    "1. [AWS CLI Credential Provider Chain](#aws-cli-credential-provider-chain)\n",
    "2. [AWS Java SDK Credential Provider Chain](#aws-java-sdk-credential-provider-chain)\n",
    "3. [AWS Credential Scenario](#aws-credential-scenario)"
   ]
  },
  {
   "cell_type": "markdown",
   "metadata": {},
   "source": [
    "### AWS CLI Credential Provider Chain:\n",
    "- CLI will look for credential in order\n",
    "    - command-line option: \"--region\" , \"--output\", \"--profile\" \n",
    "    - environment variables: AWS_ACCESS_KEY_ID, AWS_ACCESS_KEY, AWS_SESSION_TOKEN\n",
    "    - CLI credentials file -> \"~/.aws/credentials\"\n",
    "    - CLI configuration file -> \"~/.aws/config\"\n",
    "    - container credentials -> for ECS tasks\n",
    "    - instance profile credentials"
   ]
  },
  {
   "cell_type": "markdown",
   "metadata": {},
   "source": [
    "### AWS Java SDK Credential Provider Chain:\n",
    "- will look for credential in order\n",
    "    - Java system properties\n",
    "    - Environment variables\n",
    "    - Default credential profiles\n",
    "    - container credentials\n",
    "    - instance profile credentials"
   ]
  },
  {
   "cell_type": "markdown",
   "metadata": {},
   "source": [
    "### AWS Credential Scenario:\n",
    "- App deployed in AWS EC2 instance uses environment variables with credentials from IAM user to call Amazon S3 API\n",
    "- IAM user has full user permission\n",
    "- App uses only one S3 bucket\n",
    "\n",
    "Best practices:\n",
    "- IAM role and EC2 instance profiling was created for EC2\n",
    "- IAM role was assigned only minimum permission to access S3 bucket\n",
    "- Never store AWS credentials in code\n",
    "- While working within AWS, use IAM roles\n",
    "    - EC2 instance roles => EC2 instances\n",
    "    - ECS roles => ECS tasks\n",
    "    - Lambda roles => Lambda function\n",
    "- While working outside AWS\n",
    "    - use environment variables/named profile\n",
    "\n",
    "Note:\n",
    "- Even after adding the EC2 instance profiling why did the app have full S3 credentials ?\n",
    "    - because of credentials order i.e. environment variables have high priority to EC2 instance profiling\n",
    "\n"
   ]
  }
 ],
 "metadata": {
  "language_info": {
   "name": "python"
  }
 },
 "nbformat": 4,
 "nbformat_minor": 2
}
