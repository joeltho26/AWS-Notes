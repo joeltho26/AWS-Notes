{
 "cells": [
  {
   "cell_type": "markdown",
   "metadata": {},
   "source": [
    "1. [AWS EC2 Instance metadata](#AWS-EC2-Instance-metadata)\n",
    "2. [IMDS Versions](#IMDS-Versions)\n",
    "3. [Hands On - IMDS on EC2 instances](#hands-on---imds-on-ec2-instances)\n",
    "4. [Querying EC2 Instance Metadata Service](#querying-ec2-instance-metadata-service)"
   ]
  },
  {
   "cell_type": "markdown",
   "metadata": {},
   "source": [
    "### AWS EC2 Instance metadata:\n",
    "- AWS Instance EC2 Metadata (IMDS) is powerful but one of the least know feature to developers\n",
    "- Instance MetaData Service (IMDS) provides a great amount of information about instances. This includes hostname, security group, MAC address and much more\n",
    "- It allows EC2 instances to learn about it without using an IAM role for that purpose\n",
    "- It can retrieve role name from metadata but not policy\n",
    "- metadata = info about EC2 instance\n",
    "- userdata = launch script of EC2 instance\n",
    "- Metadata URL: http://169.254.169.254/latest/meta-data"
   ]
  },
  {
   "cell_type": "markdown",
   "metadata": {},
   "source": [
    "### IMDS Versions:\n",
    "\n",
    "IMDSv1:\n",
    "- Access the URL directly\n",
    "\n",
    "IMDSv2:\n",
    "- more secure, in two steps\n",
    "- Get Session token:\n",
    "    - using Header & PUT (limited validity):\n",
    "        - $ `TOKEN=curl -X PUT \"http://169.254.169.254/latest/api/token\" -H \"X-aws-ec2-metadata-token-ttl-seconds: 21600\"`\n",
    "        - We download the token with the above command and view the TOKEN via `echo $TOKEN`\n",
    "- Use Session token:\n",
    "    -  using Header:\n",
    "        - $ `curl -H \"X-aws-ec2-metadata-token: $TOKEN\" -v http://169.254.169.254/latest/meta-data/`\n",
    "        - We used the downloaded the TOKEN in the above command\n"
   ]
  },
  {
   "cell_type": "markdown",
   "metadata": {},
   "source": [
    "### Hands On - IMDS on EC2 instances:\n",
    "- Go to EC2 console\n",
    "- Create a EC2 instance\n",
    "    - AMI Type (necessary to choose IMDS version for metadat)\n",
    "    - Scroll down to Additional Details\n",
    "        - Scroll down to metadata version\n",
    "            - If we choose AMI type (Amazon 2023)\n",
    "                - V1 & V2 (Token optional)\n",
    "                - V2 Only (Token required)\n",
    "            - If we choose AMI type (Amazon Linux 2)\n",
    "                - V1 & V2 (Token optional)\n",
    "                - V2 Only (Token required)\n",
    "    - Create EC2 instance (Amazon Linux 2023 & not selected any versions - then it applies V2)"
   ]
  },
  {
   "cell_type": "markdown",
   "metadata": {},
   "source": [
    "#### Testing V1 - Amazon 2023 AMI type & default metadata version:\n",
    "- curl http://169.254.169.254/latest/metadata \n",
    "- It does not work and results in authorized exception"
   ]
  },
  {
   "cell_type": "markdown",
   "metadata": {},
   "source": [
    "#### Querying EC2 Instance Metadata Service:\n",
    "- Go to EC2 console\n",
    "- Select the created EC2 instance\n",
    "    - Click on Instance connect option to open the terminal of the instance\n",
    "    - Run the below commands\n",
    "        - $ `TOKEN=curl -X PUT \"http://169.254.169.254/latest/api/token\" -H \"X-aws-ec2-metadata-token-ttl-seconds: 21600\"`\n",
    "        - $ `curl -H \"X-aws-ec2-metadata-token: $TOKEN\" -v http://169.254.169.254/latest/meta-data/`\n",
    "            - We can remove -v in the command to have more cleaner result\n",
    " \n",
    "To fetch metadata info on EC2 instances:\n",
    "- $ `curl -H \"X-aws-ec2-metadata-token: $TOKEN\" http://169.254.169.254/latest/meta-data/local-ipv4`\n",
    "- $ `curl -H \"X-aws-ec2-metadata-token: $TOKEN\" http://169.254.169.254/latest/meta-data/local-hostname`"
   ]
  },
  {
   "cell_type": "markdown",
   "metadata": {},
   "source": [
    "- To enable metadata version on IMDS\n",
    "- While launching new instance, go to advanced configuration (last option)\n",
    "\n",
    "The URL obtained from IMDS is accessed via session token\n",
    "\n",
    "Note:\n",
    "- credentials from IAM roles are rolled into EC2 instance via Instance EC2 metadata service"
   ]
  }
 ],
 "metadata": {
  "kernelspec": {
   "display_name": "Python 3",
   "language": "python",
   "name": "python3"
  },
  "language_info": {
   "codemirror_mode": {
    "name": "ipython",
    "version": 3
   },
   "file_extension": ".py",
   "mimetype": "text/x-python",
   "name": "python",
   "nbconvert_exporter": "python",
   "pygments_lexer": "ipython3",
   "version": "3.11.6"
  }
 },
 "nbformat": 4,
 "nbformat_minor": 2
}
