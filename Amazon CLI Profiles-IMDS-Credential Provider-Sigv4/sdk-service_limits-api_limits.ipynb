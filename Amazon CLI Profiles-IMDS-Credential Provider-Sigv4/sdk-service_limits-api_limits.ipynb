{
 "cells": [
  {
   "cell_type": "markdown",
   "metadata": {},
   "source": [
    "1. [AWS SDK](#aws-sdk)\n",
    "2. [AWS API Limits](#aws-api-limits)\n",
    "3. [Exponential Backoff (any AWS resources)](#exponential-backoff-any-aws-resources)\n",
    "4. [Service limits](#service-limits)"
   ]
  },
  {
   "cell_type": "markdown",
   "metadata": {},
   "source": [
    "#### AWS SDK:\n",
    "- Python (boto3 / botocore)\n",
    "- Java\n",
    "- Ruby\n",
    "- PHP\n",
    "- etc,\n",
    "\n",
    "Note:\n",
    "- if we dont specify any region then us-east-1 will be chosen as default"
   ]
  },
  {
   "cell_type": "markdown",
   "metadata": {},
   "source": [
    "#### AWS API Limits:\n",
    "- DescribeInstances -> limit 100 calls per second\n",
    "- GetObject -> 5500 calls per second\n",
    "\n",
    "Note:\n",
    "- Intermittent errors: implement Exponential Backoff (throttling)\n",
    "- Consistent errors: request for increase in API limits"
   ]
  },
  {
   "cell_type": "markdown",
   "metadata": {},
   "source": [
    "#### Exponential Backoff (any AWS resources):\n",
    "- use when Throttling exception occurs intermittently\n",
    "- if using AWS SDK, this retry mechanism is already included in AWS SDK API calls\n",
    "- implement ourself if we use API calls as it is or in specific cases\n",
    "    - implement retries on service error with 5xx error code and throttling (server-side)\n",
    "    - do not implement retries on 4xx client errors    "
   ]
  },
  {
   "cell_type": "markdown",
   "metadata": {},
   "source": [
    "#### Service limits:\n",
    "- on-demand instances: 1152 instances\n",
    "- request AWS team by opening a ticket"
   ]
  }
 ],
 "metadata": {
  "language_info": {
   "name": "python"
  }
 },
 "nbformat": 4,
 "nbformat_minor": 2
}
