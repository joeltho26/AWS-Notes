{
 "cells": [
  {
   "cell_type": "markdown",
   "metadata": {},
   "source": [
    "1. [To Check the bill generated](#to-check-the-bill-generated)\n",
    "2. [If IAM user dont see the AWS billing info](#if-iam-user-dont-see-the-aws-billing-info)\n",
    "3. [To create billing alarm](#to-create-billing-alarm)"
   ]
  },
  {
   "cell_type": "markdown",
   "metadata": {},
   "source": [
    "## To Check the bill generated:\n",
    "- Top right corner:\n",
    "    - Click Bill and Cost Management\n",
    "        - Click Bills"
   ]
  },
  {
   "cell_type": "markdown",
   "metadata": {},
   "source": [
    "### If IAM user dont see the AWS billing info:\n",
    "- As root user\n",
    "    - Top right corner:\n",
    "        - Click Account\n",
    "            - Scroll down to IAM user and role access to billing information\n",
    "                - Activate"
   ]
  },
  {
   "cell_type": "markdown",
   "metadata": {},
   "source": [
    "## To create billing alarm:\n",
    "- Using Cloudwatch:\n",
    "    - Click Alarms\n",
    "        - Billing\n",
    "            - Create Alarm\n",
    "                - check for currency unit and period for metric\n",
    "                - threshold type\n",
    "                    - static\n",
    "                    - anomaly\n",
    "                    - estimated charges (greater than, lesser than, equal, etc)\n",
    "                    - value\n",
    "                    - data point to alarm\n",
    "                    - missing values\n",
    "                - click Next\n",
    "            - Select or create a SNS topic\n",
    "                - alarm state trigger\n",
    "                    - In alarm\n",
    "                    - Insufficient data\n",
    "                    - OK\n",
    "            - Name\n",
    "            - Create Alarm"
   ]
  },
  {
   "cell_type": "markdown",
   "metadata": {},
   "source": []
  }
 ],
 "metadata": {
  "language_info": {
   "name": "python"
  }
 },
 "nbformat": 4,
 "nbformat_minor": 2
}
