{
 "cells": [
  {
   "cell_type": "markdown",
   "metadata": {},
   "source": [
    "## Create AWS Budgets:\n",
    "\n",
    "- Top right corner:\n",
    "    - Click Bill and Cost Management\n",
    "        - Click Budgets\n",
    "            - Create Budget\n",
    "                - Zero-Budget\n",
    "                - Monthly Budget"
   ]
  }
 ],
 "metadata": {
  "language_info": {
   "name": "python"
  }
 },
 "nbformat": 4,
 "nbformat_minor": 2
}
