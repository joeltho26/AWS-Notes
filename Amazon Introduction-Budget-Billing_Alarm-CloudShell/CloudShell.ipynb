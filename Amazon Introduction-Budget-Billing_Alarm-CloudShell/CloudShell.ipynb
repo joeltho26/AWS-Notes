{
 "cells": [
  {
   "cell_type": "markdown",
   "metadata": {},
   "source": [
    "## Cloud Shell:\n",
    "- not available in all regions\n",
    "- command line terminal to run CLI commands\n",
    "\n",
    "We can download files from CloudShell directly without commands\n",
    "- Actions\n",
    "    - Download File (make sure we are in the file folder)\n",
    "\n",
    "We can upload files from CloudShell directly without commands\n",
    "- Actions\n",
    "    - Upload File (make sure we are in the file folder)\n",
    "\n",
    "We can also use split screen"
   ]
  },
  {
   "cell_type": "markdown",
   "metadata": {},
   "source": []
  }
 ],
 "metadata": {
  "language_info": {
   "name": "python"
  }
 },
 "nbformat": 4,
 "nbformat_minor": 2
}
