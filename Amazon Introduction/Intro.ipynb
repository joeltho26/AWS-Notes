{
 "cells": [
  {
   "cell_type": "markdown",
   "metadata": {},
   "source": [
    "1. [Create AWS Account](#create-aws-account)\n",
    "2. [Amazon Web Services](#amazon-web-services)\n",
    "3. [How to choose the regions in AWS?](#how-to-choose-the-regions-in-aws-)\n",
    "4. [AWS Global & Regional services](#aws-global-&-regional-services)\n",
    "5. [AWS Console](#aws-console)\n",
    "6. [Different ways to connect to AWS](#different-ways-to-connect-to-aws)\n",
    "7. [AWS CLI/SDK](#aws-cli/sdk)\n",
    "8. [To use AWS CLI](#to-use-aws-cli)\n",
    "9. [To communicate between different VPCs](#To-communicate-between-different-VPCs)\n",
    "10. [Public vs Private vs Elastic IPs](#Public-vs-Private-vs-Elastic-IPs)"
   ]
  },
  {
   "cell_type": "markdown",
   "metadata": {},
   "source": [
    "## Create AWS Account:\n",
    "- using root user \n",
    "- login using root user"
   ]
  },
  {
   "cell_type": "markdown",
   "metadata": {},
   "source": [
    "## Amazon Web Services:\n",
    "- Region (us-east-1, us-west-2, etc)\n",
    "- VPC (can have upto 5 VPCs in a region, default only 1)\n",
    "- Availability Zones (3- max 6 AZs per region accordingly)\n",
    "    - AZs eg: ap-southeast-2a, ap-southeast-2b, ap-southeast-2c (also known as subnets)\n",
    "    - AZs are one or more discrete data centers with redundant power, networking and connectivity\n",
    "    - AZs are isolated from each other but still within the same region (disaster)\n",
    "    - High bandwidth and ultra-low latency\n"
   ]
  },
  {
   "cell_type": "markdown",
   "metadata": {},
   "source": [
    "## How to choose the regions in AWS?\n",
    "- Based on proximity (latency)\n",
    "- Based on services (services available)\n",
    "- Based on compliance \n",
    "- Based on cost"
   ]
  },
  {
   "cell_type": "markdown",
   "metadata": {},
   "source": [
    "## AWS Global & Regional services:\n",
    "- Global:\n",
    "    - IAM \n",
    "    - S3\n",
    "    - CloudFront\n",
    "    - WAF (Web Application Firewall), etc\n",
    "\n",
    "- Regional:\n",
    "    - EC2\n",
    "    - ElasticBeanStalk\n",
    "    - RDS\n",
    "    - Lambda, etc"
   ]
  },
  {
   "cell_type": "markdown",
   "metadata": {},
   "source": [
    "## AWS Console:\n",
    "- look for region options on the top right\n",
    "- look for different services available in the search\n",
    "- cost and usage\n",
    "- AWS health"
   ]
  },
  {
   "cell_type": "markdown",
   "metadata": {},
   "source": [
    "## Different ways to connect to AWS:\n",
    "- Using AWS Management console (with MFA - using Google Authenticator)\n",
    "- Using AWS SDK (Access Keys)\n",
    "- Using AWS CLI (Access Keys)\n",
    "\n",
    "Do not share the access key"
   ]
  },
  {
   "cell_type": "markdown",
   "metadata": {},
   "source": [
    "## AWS CLI/SDK:\n",
    "### Create Access Key:\n",
    "- Click on any user within the AWS account in IAM.\n",
    "- Click on the \"Security credentials\" tab.\n",
    "- Click on \"Create access key\" from access keys option when scrolled.\n",
    "- make sure to keep the access key file safe."
   ]
  },
  {
   "cell_type": "markdown",
   "metadata": {},
   "source": [
    "## To use AWS CLI:\n",
    "- eg: aws iam list-users\n",
    "\n",
    "to list all iam users (if the user have the necessary permissions)\n",
    "\n",
    "- eg: aws iam list-users --region us-west-2\n",
    "\n",
    "choose the specific region"
   ]
  },
  {
   "cell_type": "markdown",
   "metadata": {},
   "source": [
    "## To communicate between different VPCs:\n",
    "- AWS Transit Gateway or VPC peering\n",
    "- Its is possible to communicate between 2 VPCs located in same or different regions."
   ]
  },
  {
   "cell_type": "markdown",
   "metadata": {},
   "source": [
    "## Public vs Private vs Elastic IPs\n",
    "\n",
    "- Public:\n",
    "    - temporary, IP address is lost when instance is terminated and launched produced new IP address\n",
    "    - free\n",
    "    - anybody from the internet can connect\n",
    "\n",
    "- Private:\n",
    "    - persistent, retained when instance is terminated and launched\n",
    "    - expensive\n",
    "    - only instances/systems connected within the private IP can access\n",
    "\n",
    "- Elastic:\n",
    "    - IPs are manually attached with the instances and can be remapped to different instance\n",
    "    - static public IP which is associated with the AWS account until chosen to release them manually\n",
    "    - charged, when the IP is not used\n"
   ]
  },
  {
   "cell_type": "markdown",
   "metadata": {},
   "source": []
  }
 ],
 "metadata": {
  "language_info": {
   "name": "python"
  }
 },
 "nbformat": 4,
 "nbformat_minor": 2
}
